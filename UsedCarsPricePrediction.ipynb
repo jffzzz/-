{
 "cells": [
  {
   "cell_type": "code",
   "execution_count": 2,
   "id": "838828ee",
   "metadata": {},
   "outputs": [],
   "source": [
    "import numpy as np\n",
    "import pandas as pd\n",
    "from plotnine import *\n",
    "from sklearn.model_selection import train_test_split\n",
    "from sklearn.linear_model import LinearRegression\n",
    "from math import sqrt\n",
    "from sklearn.metrics import mean_absolute_error, mean_squared_error\n",
    "from sklearn.neighbors import KNeighborsRegressor\n",
    "from sklearn.linear_model import LinearRegression\n",
    "from sklearn.tree import DecisionTreeRegressor\n",
    "from sklearn.ensemble import RandomForestRegressor"
   ]
  },
  {
   "cell_type": "code",
   "execution_count": 3,
   "id": "0b26c509",
   "metadata": {},
   "outputs": [
    {
     "data": {
      "text/html": [
       "<div>\n",
       "<style scoped>\n",
       "    .dataframe tbody tr th:only-of-type {\n",
       "        vertical-align: middle;\n",
       "    }\n",
       "\n",
       "    .dataframe tbody tr th {\n",
       "        vertical-align: top;\n",
       "    }\n",
       "\n",
       "    .dataframe thead th {\n",
       "        text-align: right;\n",
       "    }\n",
       "</style>\n",
       "<table border=\"1\" class=\"dataframe\">\n",
       "  <thead>\n",
       "    <tr style=\"text-align: right;\">\n",
       "      <th></th>\n",
       "      <th>Name</th>\n",
       "      <th>Location</th>\n",
       "      <th>Year</th>\n",
       "      <th>Kilometers_Driven</th>\n",
       "      <th>Fuel_Type</th>\n",
       "      <th>Transmission</th>\n",
       "      <th>Owner_Type</th>\n",
       "      <th>Mileage</th>\n",
       "      <th>Engine</th>\n",
       "      <th>Power</th>\n",
       "      <th>Seats</th>\n",
       "      <th>New_Price</th>\n",
       "      <th>Price</th>\n",
       "    </tr>\n",
       "  </thead>\n",
       "  <tbody>\n",
       "    <tr>\n",
       "      <th>0</th>\n",
       "      <td>Maruti Wagon R LXI CNG</td>\n",
       "      <td>Mumbai</td>\n",
       "      <td>2010</td>\n",
       "      <td>72000</td>\n",
       "      <td>CNG</td>\n",
       "      <td>Manual</td>\n",
       "      <td>First</td>\n",
       "      <td>26.6 km/kg</td>\n",
       "      <td>998 CC</td>\n",
       "      <td>58.16 bhp</td>\n",
       "      <td>5.0</td>\n",
       "      <td>NaN</td>\n",
       "      <td>1.75</td>\n",
       "    </tr>\n",
       "    <tr>\n",
       "      <th>1</th>\n",
       "      <td>Hyundai Creta 1.6 CRDi SX Option</td>\n",
       "      <td>Pune</td>\n",
       "      <td>2015</td>\n",
       "      <td>41000</td>\n",
       "      <td>Diesel</td>\n",
       "      <td>Manual</td>\n",
       "      <td>First</td>\n",
       "      <td>19.67 kmpl</td>\n",
       "      <td>1582 CC</td>\n",
       "      <td>126.2 bhp</td>\n",
       "      <td>5.0</td>\n",
       "      <td>NaN</td>\n",
       "      <td>12.50</td>\n",
       "    </tr>\n",
       "    <tr>\n",
       "      <th>2</th>\n",
       "      <td>Honda Jazz V</td>\n",
       "      <td>Chennai</td>\n",
       "      <td>2011</td>\n",
       "      <td>46000</td>\n",
       "      <td>Petrol</td>\n",
       "      <td>Manual</td>\n",
       "      <td>First</td>\n",
       "      <td>18.2 kmpl</td>\n",
       "      <td>1199 CC</td>\n",
       "      <td>88.7 bhp</td>\n",
       "      <td>5.0</td>\n",
       "      <td>8.61 Lakh</td>\n",
       "      <td>4.50</td>\n",
       "    </tr>\n",
       "    <tr>\n",
       "      <th>3</th>\n",
       "      <td>Maruti Ertiga VDI</td>\n",
       "      <td>Chennai</td>\n",
       "      <td>2012</td>\n",
       "      <td>87000</td>\n",
       "      <td>Diesel</td>\n",
       "      <td>Manual</td>\n",
       "      <td>First</td>\n",
       "      <td>20.77 kmpl</td>\n",
       "      <td>1248 CC</td>\n",
       "      <td>88.76 bhp</td>\n",
       "      <td>7.0</td>\n",
       "      <td>NaN</td>\n",
       "      <td>6.00</td>\n",
       "    </tr>\n",
       "    <tr>\n",
       "      <th>4</th>\n",
       "      <td>Audi A4 New 2.0 TDI Multitronic</td>\n",
       "      <td>Coimbatore</td>\n",
       "      <td>2013</td>\n",
       "      <td>40670</td>\n",
       "      <td>Diesel</td>\n",
       "      <td>Automatic</td>\n",
       "      <td>Second</td>\n",
       "      <td>15.2 kmpl</td>\n",
       "      <td>1968 CC</td>\n",
       "      <td>140.8 bhp</td>\n",
       "      <td>5.0</td>\n",
       "      <td>NaN</td>\n",
       "      <td>17.74</td>\n",
       "    </tr>\n",
       "  </tbody>\n",
       "</table>\n",
       "</div>"
      ],
      "text/plain": [
       "                               Name    Location  Year  Kilometers_Driven  \\\n",
       "0            Maruti Wagon R LXI CNG      Mumbai  2010              72000   \n",
       "1  Hyundai Creta 1.6 CRDi SX Option        Pune  2015              41000   \n",
       "2                      Honda Jazz V     Chennai  2011              46000   \n",
       "3                 Maruti Ertiga VDI     Chennai  2012              87000   \n",
       "4   Audi A4 New 2.0 TDI Multitronic  Coimbatore  2013              40670   \n",
       "\n",
       "  Fuel_Type Transmission Owner_Type     Mileage   Engine      Power  Seats  \\\n",
       "0       CNG       Manual      First  26.6 km/kg   998 CC  58.16 bhp    5.0   \n",
       "1    Diesel       Manual      First  19.67 kmpl  1582 CC  126.2 bhp    5.0   \n",
       "2    Petrol       Manual      First   18.2 kmpl  1199 CC   88.7 bhp    5.0   \n",
       "3    Diesel       Manual      First  20.77 kmpl  1248 CC  88.76 bhp    7.0   \n",
       "4    Diesel    Automatic     Second   15.2 kmpl  1968 CC  140.8 bhp    5.0   \n",
       "\n",
       "   New_Price  Price  \n",
       "0        NaN   1.75  \n",
       "1        NaN  12.50  \n",
       "2  8.61 Lakh   4.50  \n",
       "3        NaN   6.00  \n",
       "4        NaN  17.74  "
      ]
     },
     "execution_count": 3,
     "metadata": {},
     "output_type": "execute_result"
    }
   ],
   "source": [
    "# 读取数据\n",
    "df = pd.read_csv('train-data.csv', index_col='Unnamed: 0')\n",
    "df.head()"
   ]
  },
  {
   "cell_type": "code",
   "execution_count": 4,
   "id": "08675aac",
   "metadata": {},
   "outputs": [
    {
     "name": "stdout",
     "output_type": "stream",
     "text": [
      "<class 'pandas.core.frame.DataFrame'>\n",
      "Int64Index: 6019 entries, 0 to 6018\n",
      "Data columns (total 13 columns):\n",
      " #   Column             Non-Null Count  Dtype  \n",
      "---  ------             --------------  -----  \n",
      " 0   Name               6019 non-null   object \n",
      " 1   Location           6019 non-null   object \n",
      " 2   Year               6019 non-null   int64  \n",
      " 3   Kilometers_Driven  6019 non-null   int64  \n",
      " 4   Fuel_Type          6019 non-null   object \n",
      " 5   Transmission       6019 non-null   object \n",
      " 6   Owner_Type         6019 non-null   object \n",
      " 7   Mileage            6017 non-null   object \n",
      " 8   Engine             5983 non-null   object \n",
      " 9   Power              5983 non-null   object \n",
      " 10  Seats              5977 non-null   float64\n",
      " 11  New_Price          824 non-null    object \n",
      " 12  Price              6019 non-null   float64\n",
      "dtypes: float64(2), int64(2), object(9)\n",
      "memory usage: 658.3+ KB\n"
     ]
    }
   ],
   "source": [
    "# 查看数据基本信息\n",
    "df.info()"
   ]
  },
  {
   "cell_type": "code",
   "execution_count": 5,
   "id": "c50f609e",
   "metadata": {},
   "outputs": [
    {
     "data": {
      "text/plain": [
       "Name                  object\n",
       "Location              object\n",
       "Year                   int64\n",
       "Kilometers_Driven      int64\n",
       "Fuel_Type             object\n",
       "Transmission          object\n",
       "Owner_Type            object\n",
       "Mileage               object\n",
       "Engine                object\n",
       "Power                 object\n",
       "Seats                float64\n",
       "New_Price             object\n",
       "Price                float64\n",
       "dtype: object"
      ]
     },
     "execution_count": 5,
     "metadata": {},
     "output_type": "execute_result"
    }
   ],
   "source": [
    "# 查看各列数据类型\n",
    "df.dtypes"
   ]
  },
  {
   "cell_type": "code",
   "execution_count": 6,
   "id": "7d6d4d87",
   "metadata": {},
   "outputs": [],
   "source": [
    "df = df.drop(['New_Price','Location'],axis=1)   #删除新车价格New_Price和销售地点Location两列\n",
    "df = df.dropna()   #删除有空值的行"
   ]
  },
  {
   "cell_type": "code",
   "execution_count": 7,
   "id": "108c5ea9",
   "metadata": {},
   "outputs": [
    {
     "name": "stdout",
     "output_type": "stream",
     "text": [
      "<class 'pandas.core.frame.DataFrame'>\n",
      "Int64Index: 5975 entries, 0 to 6018\n",
      "Data columns (total 11 columns):\n",
      " #   Column             Non-Null Count  Dtype  \n",
      "---  ------             --------------  -----  \n",
      " 0   Name               5975 non-null   object \n",
      " 1   Year               5975 non-null   int64  \n",
      " 2   Kilometers_Driven  5975 non-null   int64  \n",
      " 3   Fuel_Type          5975 non-null   object \n",
      " 4   Transmission       5975 non-null   object \n",
      " 5   Owner_Type         5975 non-null   object \n",
      " 6   Mileage            5975 non-null   object \n",
      " 7   Engine             5975 non-null   object \n",
      " 8   Power              5975 non-null   object \n",
      " 9   Seats              5975 non-null   float64\n",
      " 10  Price              5975 non-null   float64\n",
      "dtypes: float64(2), int64(2), object(7)\n",
      "memory usage: 560.2+ KB\n"
     ]
    }
   ],
   "source": [
    "df.info()"
   ]
  },
  {
   "cell_type": "code",
   "execution_count": 8,
   "id": "863e82c9",
   "metadata": {},
   "outputs": [
    {
     "data": {
      "text/html": [
       "<div>\n",
       "<style scoped>\n",
       "    .dataframe tbody tr th:only-of-type {\n",
       "        vertical-align: middle;\n",
       "    }\n",
       "\n",
       "    .dataframe tbody tr th {\n",
       "        vertical-align: top;\n",
       "    }\n",
       "\n",
       "    .dataframe thead th {\n",
       "        text-align: right;\n",
       "    }\n",
       "</style>\n",
       "<table border=\"1\" class=\"dataframe\">\n",
       "  <thead>\n",
       "    <tr style=\"text-align: right;\">\n",
       "      <th></th>\n",
       "      <th>Name</th>\n",
       "      <th>Year</th>\n",
       "      <th>Kilometers_Driven</th>\n",
       "      <th>Fuel_Type</th>\n",
       "      <th>Transmission</th>\n",
       "      <th>Owner_Type</th>\n",
       "      <th>Mileage</th>\n",
       "      <th>Engine</th>\n",
       "      <th>Power</th>\n",
       "      <th>Seats</th>\n",
       "      <th>Price</th>\n",
       "    </tr>\n",
       "  </thead>\n",
       "  <tbody>\n",
       "    <tr>\n",
       "      <th>0</th>\n",
       "      <td>Maruti Wagon R LXI CNG</td>\n",
       "      <td>2010</td>\n",
       "      <td>72000</td>\n",
       "      <td>0</td>\n",
       "      <td>0</td>\n",
       "      <td>1</td>\n",
       "      <td>19.285</td>\n",
       "      <td>998.0</td>\n",
       "      <td>58.16</td>\n",
       "      <td>5.0</td>\n",
       "      <td>1.47</td>\n",
       "    </tr>\n",
       "    <tr>\n",
       "      <th>1</th>\n",
       "      <td>Hyundai Creta 1.6 CRDi SX Option</td>\n",
       "      <td>2015</td>\n",
       "      <td>41000</td>\n",
       "      <td>1</td>\n",
       "      <td>0</td>\n",
       "      <td>1</td>\n",
       "      <td>19.670</td>\n",
       "      <td>1582.0</td>\n",
       "      <td>126.20</td>\n",
       "      <td>5.0</td>\n",
       "      <td>10.53</td>\n",
       "    </tr>\n",
       "    <tr>\n",
       "      <th>2</th>\n",
       "      <td>Honda Jazz V</td>\n",
       "      <td>2011</td>\n",
       "      <td>46000</td>\n",
       "      <td>0</td>\n",
       "      <td>0</td>\n",
       "      <td>1</td>\n",
       "      <td>18.200</td>\n",
       "      <td>1199.0</td>\n",
       "      <td>88.70</td>\n",
       "      <td>5.0</td>\n",
       "      <td>3.79</td>\n",
       "    </tr>\n",
       "    <tr>\n",
       "      <th>3</th>\n",
       "      <td>Maruti Ertiga VDI</td>\n",
       "      <td>2012</td>\n",
       "      <td>87000</td>\n",
       "      <td>1</td>\n",
       "      <td>0</td>\n",
       "      <td>1</td>\n",
       "      <td>20.770</td>\n",
       "      <td>1248.0</td>\n",
       "      <td>88.76</td>\n",
       "      <td>7.0</td>\n",
       "      <td>5.05</td>\n",
       "    </tr>\n",
       "    <tr>\n",
       "      <th>4</th>\n",
       "      <td>Audi A4 New 2.0 TDI Multitronic</td>\n",
       "      <td>2013</td>\n",
       "      <td>40670</td>\n",
       "      <td>1</td>\n",
       "      <td>1</td>\n",
       "      <td>2</td>\n",
       "      <td>15.200</td>\n",
       "      <td>1968.0</td>\n",
       "      <td>140.80</td>\n",
       "      <td>5.0</td>\n",
       "      <td>14.94</td>\n",
       "    </tr>\n",
       "  </tbody>\n",
       "</table>\n",
       "</div>"
      ],
      "text/plain": [
       "                               Name  Year  Kilometers_Driven  Fuel_Type  \\\n",
       "0            Maruti Wagon R LXI CNG  2010              72000          0   \n",
       "1  Hyundai Creta 1.6 CRDi SX Option  2015              41000          1   \n",
       "2                      Honda Jazz V  2011              46000          0   \n",
       "3                 Maruti Ertiga VDI  2012              87000          1   \n",
       "4   Audi A4 New 2.0 TDI Multitronic  2013              40670          1   \n",
       "\n",
       "   Transmission  Owner_Type  Mileage  Engine   Power  Seats  Price  \n",
       "0             0           1   19.285   998.0   58.16    5.0   1.47  \n",
       "1             0           1   19.670  1582.0  126.20    5.0  10.53  \n",
       "2             0           1   18.200  1199.0   88.70    5.0   3.79  \n",
       "3             0           1   20.770  1248.0   88.76    7.0   5.05  \n",
       "4             1           2   15.200  1968.0  140.80    5.0  14.94  "
      ]
     },
     "execution_count": 8,
     "metadata": {},
     "output_type": "execute_result"
    }
   ],
   "source": [
    "#统一标准里程Mileage列的单位为kmpl\n",
    "df['Mileage'] = df['Mileage'].astype(str).apply(lambda x:float(x.split(' ')[0]) if 'kmpl'in x else float(x.split(' ')[0])*0.725)\n",
    "#将价格Price列的单位由十万印度卢比换算成人民币万元\n",
    "df['Price'] = df['Price'].apply(lambda x:round(x*0.842,2))\n",
    "#处理排量Engine为数值型\n",
    "df['Engine'] = df['Engine'].astype(str).apply(lambda x:float(x.replace('CC','')))\n",
    "#处理最大功率Power为数值型\n",
    "df['Power'] = df['Power'].astype(str).apply(lambda x: np.NAN if x == 'null bhp' else float(x.split(' ')[0]))\n",
    "df['Power'] = df['Power'].fillna(df['Power'].mean())   #用均值填充最大功率列的缺失值\n",
    "#处理第几手Owner_Type为数值型\n",
    "Owner_Type_dict = {'First':1,'Second':2,'Third':3,'Fourth & Above':4}\n",
    "df['Owner_Type'] = df['Owner_Type'].apply(lambda x:Owner_Type_dict[x])\n",
    "#处理传动装置类型Transmission为数值型\n",
    "df['Transmission'] = df['Transmission'].apply(lambda x:1 if x == 'Automatic' else 0)   #自动挡为1，手动挡为0\n",
    "#处理燃料类型Fuel_Type为数值型\n",
    "df['Fuel_Type'] = df['Fuel_Type'].apply(lambda x:1 if x == 'Diesel' else 0)   #电动为1，其他为0\n",
    "df.head()"
   ]
  },
  {
   "cell_type": "code",
   "execution_count": 9,
   "id": "bf972b71",
   "metadata": {},
   "outputs": [
    {
     "data": {
      "text/html": [
       "<div>\n",
       "<style scoped>\n",
       "    .dataframe tbody tr th:only-of-type {\n",
       "        vertical-align: middle;\n",
       "    }\n",
       "\n",
       "    .dataframe tbody tr th {\n",
       "        vertical-align: top;\n",
       "    }\n",
       "\n",
       "    .dataframe thead th {\n",
       "        text-align: right;\n",
       "    }\n",
       "</style>\n",
       "<table border=\"1\" class=\"dataframe\">\n",
       "  <thead>\n",
       "    <tr style=\"text-align: right;\">\n",
       "      <th></th>\n",
       "      <th>Price</th>\n",
       "    </tr>\n",
       "    <tr>\n",
       "      <th>Name</th>\n",
       "      <th></th>\n",
       "    </tr>\n",
       "  </thead>\n",
       "  <tbody>\n",
       "    <tr>\n",
       "      <th>Ambassador</th>\n",
       "      <td>1.140000</td>\n",
       "    </tr>\n",
       "    <tr>\n",
       "      <th>Smart</th>\n",
       "      <td>2.530000</td>\n",
       "    </tr>\n",
       "    <tr>\n",
       "      <th>Chevrolet</th>\n",
       "      <td>2.563140</td>\n",
       "    </tr>\n",
       "    <tr>\n",
       "      <th>Datsun</th>\n",
       "      <td>2.567692</td>\n",
       "    </tr>\n",
       "    <tr>\n",
       "      <th>Fiat</th>\n",
       "      <td>2.812400</td>\n",
       "    </tr>\n",
       "  </tbody>\n",
       "</table>\n",
       "</div>"
      ],
      "text/plain": [
       "               Price\n",
       "Name                \n",
       "Ambassador  1.140000\n",
       "Smart       2.530000\n",
       "Chevrolet   2.563140\n",
       "Datsun      2.567692\n",
       "Fiat        2.812400"
      ]
     },
     "execution_count": 9,
     "metadata": {},
     "output_type": "execute_result"
    }
   ],
   "source": [
    "df['Name'] = df['Name'].astype(str).apply(lambda x:x.split(' ')[0])   #只保留汽车的品牌信息\n",
    "df_name = df.groupby('Name').agg({'Price':'mean'}).sort_values('Price')\n",
    "df_name.head()"
   ]
  },
  {
   "cell_type": "code",
   "execution_count": 10,
   "id": "5ad36f37",
   "metadata": {},
   "outputs": [
    {
     "data": {
      "text/html": [
       "<div>\n",
       "<style scoped>\n",
       "    .dataframe tbody tr th:only-of-type {\n",
       "        vertical-align: middle;\n",
       "    }\n",
       "\n",
       "    .dataframe tbody tr th {\n",
       "        vertical-align: top;\n",
       "    }\n",
       "\n",
       "    .dataframe thead th {\n",
       "        text-align: right;\n",
       "    }\n",
       "</style>\n",
       "<table border=\"1\" class=\"dataframe\">\n",
       "  <thead>\n",
       "    <tr style=\"text-align: right;\">\n",
       "      <th></th>\n",
       "      <th>Name</th>\n",
       "      <th>Year</th>\n",
       "      <th>Kilometers_Driven</th>\n",
       "      <th>Fuel_Type</th>\n",
       "      <th>Transmission</th>\n",
       "      <th>Owner_Type</th>\n",
       "      <th>Mileage</th>\n",
       "      <th>Engine</th>\n",
       "      <th>Power</th>\n",
       "      <th>Seats</th>\n",
       "      <th>Price</th>\n",
       "    </tr>\n",
       "  </thead>\n",
       "  <tbody>\n",
       "    <tr>\n",
       "      <th>0</th>\n",
       "      <td>7</td>\n",
       "      <td>2010</td>\n",
       "      <td>72000</td>\n",
       "      <td>0</td>\n",
       "      <td>0</td>\n",
       "      <td>1</td>\n",
       "      <td>19.285</td>\n",
       "      <td>998.0</td>\n",
       "      <td>58.16</td>\n",
       "      <td>5.0</td>\n",
       "      <td>1.47</td>\n",
       "    </tr>\n",
       "    <tr>\n",
       "      <th>1</th>\n",
       "      <td>10</td>\n",
       "      <td>2015</td>\n",
       "      <td>41000</td>\n",
       "      <td>1</td>\n",
       "      <td>0</td>\n",
       "      <td>1</td>\n",
       "      <td>19.670</td>\n",
       "      <td>1582.0</td>\n",
       "      <td>126.20</td>\n",
       "      <td>5.0</td>\n",
       "      <td>10.53</td>\n",
       "    </tr>\n",
       "    <tr>\n",
       "      <th>2</th>\n",
       "      <td>11</td>\n",
       "      <td>2011</td>\n",
       "      <td>46000</td>\n",
       "      <td>0</td>\n",
       "      <td>0</td>\n",
       "      <td>1</td>\n",
       "      <td>18.200</td>\n",
       "      <td>1199.0</td>\n",
       "      <td>88.70</td>\n",
       "      <td>5.0</td>\n",
       "      <td>3.79</td>\n",
       "    </tr>\n",
       "    <tr>\n",
       "      <th>3</th>\n",
       "      <td>7</td>\n",
       "      <td>2012</td>\n",
       "      <td>87000</td>\n",
       "      <td>1</td>\n",
       "      <td>0</td>\n",
       "      <td>1</td>\n",
       "      <td>20.770</td>\n",
       "      <td>1248.0</td>\n",
       "      <td>88.76</td>\n",
       "      <td>7.0</td>\n",
       "      <td>5.05</td>\n",
       "    </tr>\n",
       "    <tr>\n",
       "      <th>4</th>\n",
       "      <td>24</td>\n",
       "      <td>2013</td>\n",
       "      <td>40670</td>\n",
       "      <td>1</td>\n",
       "      <td>1</td>\n",
       "      <td>2</td>\n",
       "      <td>15.200</td>\n",
       "      <td>1968.0</td>\n",
       "      <td>140.80</td>\n",
       "      <td>5.0</td>\n",
       "      <td>14.94</td>\n",
       "    </tr>\n",
       "  </tbody>\n",
       "</table>\n",
       "</div>"
      ],
      "text/plain": [
       "   Name  Year  Kilometers_Driven  Fuel_Type  Transmission  Owner_Type  \\\n",
       "0     7  2010              72000          0             0           1   \n",
       "1    10  2015              41000          1             0           1   \n",
       "2    11  2011              46000          0             0           1   \n",
       "3     7  2012              87000          1             0           1   \n",
       "4    24  2013              40670          1             1           2   \n",
       "\n",
       "   Mileage  Engine   Power  Seats  Price  \n",
       "0   19.285   998.0   58.16    5.0   1.47  \n",
       "1   19.670  1582.0  126.20    5.0  10.53  \n",
       "2   18.200  1199.0   88.70    5.0   3.79  \n",
       "3   20.770  1248.0   88.76    7.0   5.05  \n",
       "4   15.200  1968.0  140.80    5.0  14.94  "
      ]
     },
     "execution_count": 10,
     "metadata": {},
     "output_type": "execute_result"
    }
   ],
   "source": [
    "df_name_dict = {}\n",
    "df_name_dict_reversal = {}\n",
    "n = 1\n",
    "for i in df_name.index:\n",
    "    df_name_dict[i] = n\n",
    "    df_name_dict_reversal[n] = i\n",
    "    n += 1\n",
    "df['Name'] = df['Name'].astype(str).apply(lambda x:df_name_dict[x])\n",
    "df.head()"
   ]
  },
  {
   "cell_type": "code",
   "execution_count": 11,
   "id": "31b9aaa2",
   "metadata": {},
   "outputs": [
    {
     "data": {
      "text/plain": [
       "Name                   int64\n",
       "Year                   int64\n",
       "Kilometers_Driven      int64\n",
       "Fuel_Type              int64\n",
       "Transmission           int64\n",
       "Owner_Type             int64\n",
       "Mileage              float64\n",
       "Engine               float64\n",
       "Power                float64\n",
       "Seats                float64\n",
       "Price                float64\n",
       "dtype: object"
      ]
     },
     "execution_count": 11,
     "metadata": {},
     "output_type": "execute_result"
    }
   ],
   "source": [
    "df.dtypes"
   ]
  },
  {
   "cell_type": "code",
   "execution_count": 12,
   "id": "c25d64c2",
   "metadata": {
    "scrolled": true
   },
   "outputs": [
    {
     "data": {
      "image/png": "[encoded data removed]",
      "text/plain": [
       "<Figure size 640x480 with 1 Axes>"
      ]
     },
     "metadata": {},
     "output_type": "display_data"
    },
    {
     "data": {
      "text/plain": [
       "<ggplot: (120849820832)>"
      ]
     },
     "execution_count": 12,
     "metadata": {},
     "output_type": "execute_result"
    }
   ],
   "source": [
    "df1 = pd.DataFrame(df.groupby('Name')['Price'].mean()).reset_index()\n",
    "def return_key(val):\n",
    "    for key, value in df_name_dict.items():\n",
    "        if value==val:\n",
    "            return key\n",
    "df1['Name']= df1['Name'].apply(lambda x:return_key(x))\n",
    "(\n",
    "    ggplot(df1, aes('Name', 'Price'))\n",
    "    + geom_bar(stat='identity', width=0.8, size=0.25, alpha=1, fill='lightgreen')\n",
    "    + theme(axis_text_x = element_text(angle = 90)) \n",
    "    + xlab('')\n",
    "    + ylab('均价（万元）')\n",
    "    + ggtitle('不同品牌二手车均价')\n",
    "    + theme(text=element_text(family=['SimHei']))\n",
    ")"
   ]
  },
  {
   "cell_type": "code",
   "execution_count": 13,
   "id": "0130dc6e",
   "metadata": {},
   "outputs": [
    {
     "data": {
      "image/png": "[encoded data removed]",
      "text/plain": [
       "<Figure size 640x480 with 1 Axes>"
      ]
     },
     "metadata": {},
     "output_type": "display_data"
    },
    {
     "data": {
      "text/plain": [
       "<ggplot: (120850364121)>"
      ]
     },
     "execution_count": 13,
     "metadata": {},
     "output_type": "execute_result"
    }
   ],
   "source": [
    "df2 = pd.DataFrame(df.groupby('Year')['Price'].mean()).reset_index()\n",
    "(\n",
    "    ggplot(df2, aes('factor(Year)', 'Price'))\n",
    "    + geom_bar(stat='identity', width=0.8, size=0.25, alpha=1, fill='lightgreen')\n",
    "    + theme(axis_text_x = element_text(angle = 45)) \n",
    "    + xlab('')\n",
    "    + ylab('均价（万元）')\n",
    "    + ggtitle('不同年份二手车均价')\n",
    "    + theme(text=element_text(family=['SimHei']))\n",
    ")"
   ]
  },
  {
   "cell_type": "code",
   "execution_count": 14,
   "id": "45208832",
   "metadata": {},
   "outputs": [
    {
     "name": "stderr",
     "output_type": "stream",
     "text": [
      "C:\\Users\\Lenovo\\AppData\\Local\\Temp\\ipykernel_24812\\2623418715.py:18: SettingWithCopyWarning: \n",
      "A value is trying to be set on a copy of a slice from a DataFrame.\n",
      "Try using .loc[row_indexer,col_indexer] = value instead\n",
      "\n",
      "See the caveats in the documentation: https://pandas.pydata.org/pandas-docs/stable/user_guide/indexing.html#returning-a-view-versus-a-copy\n"
     ]
    },
    {
     "data": {
      "image/png": "[encoded data removed]",
      "text/plain": [
       "<Figure size 640x480 with 1 Axes>"
      ]
     },
     "metadata": {},
     "output_type": "display_data"
    },
    {
     "data": {
      "text/plain": [
       "<ggplot: (120850424748)>"
      ]
     },
     "execution_count": 14,
     "metadata": {},
     "output_type": "execute_result"
    }
   ],
   "source": [
    "df3 = df[['Kilometers_Driven','Price']]\n",
    "for i in df3.index:\n",
    "    if df3.at[i,'Kilometers_Driven']>=0 and df3.at[i,'Kilometers_Driven']<10000:\n",
    "        df3.at[i,'Kilometers'] = '[0,10000)'\n",
    "    elif df3.at[i,'Kilometers_Driven']>=10000 and df3.at[i,'Kilometers_Driven']<20000:\n",
    "        df3.at[i,'Kilometers'] = '[10000,20000)'\n",
    "    elif df3.at[i,'Kilometers_Driven']>=20000 and df3.at[i,'Kilometers_Driven']<30000:\n",
    "        df3.at[i,'Kilometers'] = '[20000,30000)'\n",
    "    elif df3.at[i,'Kilometers_Driven']>=30000 and df3.at[i,'Kilometers_Driven']<40000:\n",
    "        df3.at[i,'Kilometers'] = '[30000,40000)'\n",
    "    elif df3.at[i,'Kilometers_Driven']>=40000 and df3.at[i,'Kilometers_Driven']<50000:\n",
    "        df3.at[i,'Kilometers'] = '[40000,50000)'\n",
    "    elif df3.at[i,'Kilometers_Driven']>=50000 and df3.at[i,'Kilometers_Driven']<60000:\n",
    "        df3.at[i,'Kilometers'] = '[50000,60000)'\n",
    "    elif df3.at[i,'Kilometers_Driven']>=60000 and df3.at[i,'Kilometers_Driven']<70000:\n",
    "        df3.at[i,'Kilometers'] = '[60000,70000)'\n",
    "    elif df3.at[i,'Kilometers_Driven']>=70000 and df3.at[i,'Kilometers_Driven']<80000:\n",
    "        df3.at[i,'Kilometers'] = '[70000,80000)'\n",
    "    elif df3.at[i,'Kilometers_Driven']>=80000 and df3.at[i,'Kilometers_Driven']<90000:\n",
    "        df3.at[i,'Kilometers'] = '[80000,90000)'\n",
    "    elif df3.at[i,'Kilometers_Driven']>=90000 and df3.at[i,'Kilometers_Driven']<100000:\n",
    "        df3.at[i,'Kilometers'] = '[90000,100000)'\n",
    "    elif df3.at[i,'Kilometers_Driven']>=100000:\n",
    "        df3.at[i,'Kilometers'] = '[100000,)'\n",
    "\n",
    "df3 = pd.DataFrame(df3.groupby('Kilometers')['Price'].mean()).reset_index()\n",
    "(\n",
    "    ggplot(df3, aes('Kilometers', 'Price'))\n",
    "    + geom_bar(stat='identity', width=0.8, size=0.25, alpha=1, fill='lightgreen')\n",
    "    + theme(axis_text_x = element_text(angle = 45)) \n",
    "    + scale_x_discrete(limits=('[0,10000)','[10000,20000)','[20000,30000)','[30000,40000)','[40000,50000)','[50000,60000)','[60000,70000)','[70000,80000)','[80000,90000)','[90000,100000)','[100000,)'))\n",
    "    + xlab('')\n",
    "    + ylab('均价（万元）')\n",
    "    + ggtitle('不同里程数二手车均价')\n",
    "    + theme(text=element_text(family=['SimHei']))\n",
    ")"
   ]
  },
  {
   "cell_type": "code",
   "execution_count": 15,
   "id": "df05fca9",
   "metadata": {},
   "outputs": [
    {
     "data": {
      "image/png": "[encoded data removed]",
      "text/plain": [
       "<Figure size 640x480 with 1 Axes>"
      ]
     },
     "metadata": {},
     "output_type": "display_data"
    },
    {
     "data": {
      "text/plain": [
       "<ggplot: (120849862048)>"
      ]
     },
     "execution_count": 15,
     "metadata": {},
     "output_type": "execute_result"
    }
   ],
   "source": [
    "df4 = pd.DataFrame(df.groupby('Fuel_Type')['Price'].mean()).reset_index()\n",
    "(\n",
    "    ggplot(df4, aes('factor(Fuel_Type)', 'Price'))\n",
    "    + geom_bar(stat='identity', width=0.8, size=0.25, alpha=1, fill='lightgreen')\n",
    "    + scale_x_discrete(labels=('非电动','电动'))\n",
    "    + theme(text=element_text(family=['SimHei']))\n",
    "    + xlab('')\n",
    "    + ylab('均价（万元）')\n",
    "    + ggtitle('电动与非电动二手车均价')\n",
    ")"
   ]
  },
  {
   "cell_type": "code",
   "execution_count": 16,
   "id": "b8c150d7",
   "metadata": {},
   "outputs": [
    {
     "data": {
      "image/png": "[encoded data removed]",
      "text/plain": [
       "<Figure size 640x480 with 1 Axes>"
      ]
     },
     "metadata": {},
     "output_type": "display_data"
    },
    {
     "data": {
      "text/plain": [
       "<ggplot: (120850608225)>"
      ]
     },
     "execution_count": 16,
     "metadata": {},
     "output_type": "execute_result"
    }
   ],
   "source": [
    "df5 = pd.DataFrame(df.groupby('Transmission')['Price'].mean()).reset_index()\n",
    "(\n",
    "    ggplot(df5, aes('factor(Transmission)', 'Price'))\n",
    "    + geom_bar(stat='identity', width=0.8, size=0.25, alpha=1, fill='lightgreen')\n",
    "    + scale_x_discrete(labels=('手动挡','自动挡'))\n",
    "    + theme(text=element_text(family=['SimHei']))\n",
    "    + xlab('')\n",
    "    + ylab('均价（万元）')\n",
    "    + ggtitle('手动挡与自动挡二手车均价')\n",
    ")"
   ]
  },
  {
   "cell_type": "code",
   "execution_count": 17,
   "id": "64340ee1",
   "metadata": {},
   "outputs": [
    {
     "data": {
      "image/png": "[encoded data removed]",
      "text/plain": [
       "<Figure size 640x480 with 1 Axes>"
      ]
     },
     "metadata": {},
     "output_type": "display_data"
    },
    {
     "data": {
      "text/plain": [
       "<ggplot: (120850419008)>"
      ]
     },
     "execution_count": 17,
     "metadata": {},
     "output_type": "execute_result"
    }
   ],
   "source": [
    "df6 = pd.DataFrame(df.groupby('Owner_Type')['Price'].mean()).reset_index()\n",
    "(\n",
    "    ggplot(df6, aes('Owner_Type', 'Price'))\n",
    "    + geom_bar(stat='identity', width=0.8, size=0.25, alpha=1, fill='lightgreen')\n",
    "    + xlab('')\n",
    "    + ylab('均价（万元）')\n",
    "    + ggtitle('不同经手次数的二手车均价')\n",
    "    + theme(text=element_text(family=['SimHei']))\n",
    ")"
   ]
  },
  {
   "cell_type": "code",
   "execution_count": 18,
   "id": "2c129846",
   "metadata": {},
   "outputs": [
    {
     "name": "stderr",
     "output_type": "stream",
     "text": [
      "C:\\Users\\Lenovo\\AppData\\Local\\Temp\\ipykernel_24812\\3078838066.py:10: SettingWithCopyWarning: \n",
      "A value is trying to be set on a copy of a slice from a DataFrame.\n",
      "Try using .loc[row_indexer,col_indexer] = value instead\n",
      "\n",
      "See the caveats in the documentation: https://pandas.pydata.org/pandas-docs/stable/user_guide/indexing.html#returning-a-view-versus-a-copy\n"
     ]
    },
    {
     "data": {
      "image/png": "[encoded data removed]",
      "text/plain": [
       "<Figure size 640x480 with 1 Axes>"
      ]
     },
     "metadata": {},
     "output_type": "display_data"
    },
    {
     "data": {
      "text/plain": [
       "<ggplot: (120849675427)>"
      ]
     },
     "execution_count": 18,
     "metadata": {},
     "output_type": "execute_result"
    }
   ],
   "source": [
    "df7 = df[['Mileage','Price']]\n",
    "for i in df7.index:\n",
    "    if df7.at[i,'Mileage']>=0 and df7.at[i,'Mileage']<5:\n",
    "        df7.at[i,'Mileage_level'] = '[0,5)'\n",
    "    elif df7.at[i,'Mileage']>=5 and df7.at[i,'Mileage']<10:\n",
    "        df7.at[i,'Mileage_level'] = '[5,10)'\n",
    "    elif df7.at[i,'Mileage']>=10 and df7.at[i,'Mileage']<15:\n",
    "        df7.at[i,'Mileage_level'] = '[10,15)'\n",
    "    elif df7.at[i,'Mileage']>=15 and df7.at[i,'Mileage']<20:\n",
    "        df7.at[i,'Mileage_level'] = '[15,20)'\n",
    "    elif df7.at[i,'Mileage']>=20 and df7.at[i,'Mileage']<25:\n",
    "        df7.at[i,'Mileage_level'] = '[20,25)'\n",
    "    elif df7.at[i,'Mileage']>=25 and df7.at[i,'Mileage']<30:\n",
    "        df7.at[i,'Mileage_level'] = '[25,30)'\n",
    "\n",
    "df7 = pd.DataFrame(df7.groupby('Mileage_level')['Price'].mean()).reset_index()\n",
    "(\n",
    "    ggplot(df7, aes('Mileage_level', 'Price'))\n",
    "    + geom_bar(stat='identity', width=0.8, size=0.25, alpha=1, fill='lightgreen') \n",
    "    + scale_x_discrete(limits=('[0,5)','[5,10)','[10,15)','[15,20)','[20,25)','[25,30)')) \n",
    "    + xlab('')\n",
    "    + ylab('均价（万元）')\n",
    "    + ggtitle('不同标准里程的二手车均价')\n",
    "    + theme(text=element_text(family=['SimHei']))\n",
    ")"
   ]
  },
  {
   "cell_type": "code",
   "execution_count": 19,
   "id": "095a4de9",
   "metadata": {},
   "outputs": [
    {
     "name": "stderr",
     "output_type": "stream",
     "text": [
      "C:\\Users\\Lenovo\\AppData\\Local\\Temp\\ipykernel_24812\\785520287.py:4: SettingWithCopyWarning: \n",
      "A value is trying to be set on a copy of a slice from a DataFrame.\n",
      "Try using .loc[row_indexer,col_indexer] = value instead\n",
      "\n",
      "See the caveats in the documentation: https://pandas.pydata.org/pandas-docs/stable/user_guide/indexing.html#returning-a-view-versus-a-copy\n"
     ]
    },
    {
     "data": {
      "image/png": "[encoded data removed]",
      "text/plain": [
       "<Figure size 640x480 with 1 Axes>"
      ]
     },
     "metadata": {},
     "output_type": "display_data"
    },
    {
     "data": {
      "text/plain": [
       "<ggplot: (120850815729)>"
      ]
     },
     "execution_count": 19,
     "metadata": {},
     "output_type": "execute_result"
    }
   ],
   "source": [
    "df8 = df[['Engine','Price']]\n",
    "for i in df8.index:\n",
    "    if df8.at[i,'Engine']>=0 and df8.at[i,'Engine']<1000:\n",
    "        df8.at[i,'Engine_level'] = '[0,1000)'\n",
    "    elif df8.at[i,'Engine']>=1000 and df8.at[i,'Engine']<2000:\n",
    "        df8.at[i,'Engine_level'] = '[1000,2000)'\n",
    "    elif df8.at[i,'Engine']>=2000 and df8.at[i,'Engine']<3000:\n",
    "        df8.at[i,'Engine_level'] = '[2000,3000)'\n",
    "    elif df8.at[i,'Engine']>=3000 and df8.at[i,'Engine']<4000:\n",
    "        df8.at[i,'Engine_level'] = '[3000,4000)'\n",
    "    elif df8.at[i,'Engine']>=4000 and df8.at[i,'Engine']<5000:\n",
    "        df8.at[i,'Engine_level'] = '[4000,5000)'\n",
    "    elif df8.at[i,'Engine']>=5000 and df8.at[i,'Engine']<6000:\n",
    "        df8.at[i,'Engine_level'] = '[5000,6000)'\n",
    "\n",
    "df8 = pd.DataFrame(df8.groupby('Engine_level')['Price'].mean()).reset_index()\n",
    "(\n",
    "    ggplot(df8, aes('Engine_level', 'Price'))\n",
    "    + geom_bar(stat='identity', width=0.8, size=0.25, alpha=1, fill='lightgreen')\n",
    "    + scale_x_discrete(limits=('[0,1000)','[1000,2000)','[2000,3000)','[3000,4000)','[4000,5000)','[5000,6000)')) \n",
    "    + xlab('')\n",
    "    + ylab('均价（万元）')\n",
    "    + ggtitle('不同排量二手车均价')\n",
    "    + theme(text=element_text(family=['SimHei']))\n",
    ")"
   ]
  },
  {
   "cell_type": "code",
   "execution_count": 20,
   "id": "4e059630",
   "metadata": {
    "scrolled": true
   },
   "outputs": [
    {
     "name": "stderr",
     "output_type": "stream",
     "text": [
      "C:\\Users\\Lenovo\\AppData\\Local\\Temp\\ipykernel_24812\\2288422568.py:4: SettingWithCopyWarning: \n",
      "A value is trying to be set on a copy of a slice from a DataFrame.\n",
      "Try using .loc[row_indexer,col_indexer] = value instead\n",
      "\n",
      "See the caveats in the documentation: https://pandas.pydata.org/pandas-docs/stable/user_guide/indexing.html#returning-a-view-versus-a-copy\n"
     ]
    },
    {
     "data": {
      "image/png": "[encoded data removed]",
      "text/plain": [
       "<Figure size 640x480 with 1 Axes>"
      ]
     },
     "metadata": {},
     "output_type": "display_data"
    },
    {
     "data": {
      "text/plain": [
       "<ggplot: (120850849789)>"
      ]
     },
     "execution_count": 20,
     "metadata": {},
     "output_type": "execute_result"
    }
   ],
   "source": [
    "df9 = df[['Power','Price']]\n",
    "for i in df9.index:\n",
    "    if df9.at[i,'Power']>=0 and df9.at[i,'Power']<100:\n",
    "        df9.at[i,'Power_level'] = '[0,100)'\n",
    "    elif df9.at[i,'Power']>=100 and df9.at[i,'Power']<200:\n",
    "        df9.at[i,'Power_level'] = '[100,200)'\n",
    "    elif df9.at[i,'Power']>=200 and df9.at[i,'Power']<300:\n",
    "        df9.at[i,'Power_level'] = '[200,300)'\n",
    "    elif df9.at[i,'Power']>=300 and df9.at[i,'Power']<400:\n",
    "        df9.at[i,'Power_level'] = '[300,400)'\n",
    "    elif df9.at[i,'Power']>=400 and df9.at[i,'Power']<500:\n",
    "        df9.at[i,'Power_level'] = '[400,500)'\n",
    "    elif df9.at[i,'Power']>=500 and df9.at[i,'Power']<600:\n",
    "        df9.at[i,'Power_level'] = '[500,600)'\n",
    "\n",
    "df9 = pd.DataFrame(df9.groupby('Power_level')['Price'].mean()).reset_index()\n",
    "(\n",
    "    ggplot(df9, aes('Power_level', 'Price'))\n",
    "    + geom_bar(stat='identity', width=0.8, size=0.25, alpha=1, fill='lightgreen')\n",
    "    + scale_x_discrete(limits=('[0,100)','[100,200)','[200,300)','[300,400)','[400,500)','[500,600)')) \n",
    "    + xlab('')\n",
    "    + ylab('均价（万元）')\n",
    "    + ggtitle('不同最大功率二手车均价')\n",
    "    + theme(text=element_text(family=['SimHei']))\n",
    ")"
   ]
  },
  {
   "cell_type": "code",
   "execution_count": 21,
   "id": "474d8c69",
   "metadata": {},
   "outputs": [
    {
     "data": {
      "image/png": "[encoded data removed]",
      "text/plain": [
       "<Figure size 640x480 with 1 Axes>"
      ]
     },
     "metadata": {},
     "output_type": "display_data"
    },
    {
     "data": {
      "text/plain": [
       "<ggplot: (120850864532)>"
      ]
     },
     "execution_count": 21,
     "metadata": {},
     "output_type": "execute_result"
    }
   ],
   "source": [
    "df10 = pd.DataFrame(df.groupby('Seats')['Price'].mean()).reset_index()\n",
    "(\n",
    "    ggplot(df10, aes('factor(Seats)', 'Price'))\n",
    "    + geom_bar(stat='identity', width=0.8, size=0.25, alpha=1, fill='lightgreen')\n",
    "    + xlab('')\n",
    "    + ylab('均价（万元）')\n",
    "    + ggtitle('不同座位数二手车均价')\n",
    "    + theme(text=element_text(family=['SimHei']))\n",
    ")"
   ]
  },
  {
   "cell_type": "code",
   "execution_count": 22,
   "id": "7ac3f68f",
   "metadata": {},
   "outputs": [],
   "source": [
    "#建立训练集和测试集\n",
    "X_d = df.iloc[:,:-1]\n",
    "y_d = df.iloc[:,-1]\n",
    "#提取训练数据及测试数据\n",
    "X_train_d, X_test_d, y_train_d, y_test_d = train_test_split(X_d, y_d, test_size=0.15, random_state=1)"
   ]
  },
  {
   "cell_type": "code",
   "execution_count": 23,
   "id": "2c1e1626",
   "metadata": {},
   "outputs": [],
   "source": [
    "#定义评价指标函数，score即为R2\n",
    "def evaluation(model):\n",
    "    ypred = model.predict(X_test_d)\n",
    "    mae = mean_absolute_error(y_test_d, ypred)\n",
    "    mse = mean_squared_error(y_test_d, ypred)\n",
    "    rmse = sqrt(mse)\n",
    "    print(\"MAE: %.2f\" % mae)\n",
    "    print(\"MSE: %.2f\" % mse)\n",
    "    print(\"RMSE: %.2f\" % rmse)"
   ]
  },
  {
   "cell_type": "code",
   "execution_count": 24,
   "id": "0af3711d",
   "metadata": {},
   "outputs": [
    {
     "name": "stdout",
     "output_type": "stream",
     "text": [
      "train score:  0.7188882242943493\n",
      "test score:  0.6054490456224464\n",
      "MAE: 3.41\n",
      "MSE: 36.78\n",
      "RMSE: 6.06\n"
     ]
    }
   ],
   "source": [
    "#KNN模型进行预测\n",
    "model_knn = KNeighborsRegressor()\n",
    "model_knn.fit(X_train_d, y_train_d)\n",
    "print(\"train score: \", model_knn.score(X_train_d, y_train_d))\n",
    "print(\"test score: \", model_knn.score(X_test_d, y_test_d))\n",
    "evaluation(model_knn)"
   ]
  },
  {
   "cell_type": "code",
   "execution_count": 25,
   "id": "6cad901d",
   "metadata": {},
   "outputs": [
    {
     "name": "stdout",
     "output_type": "stream",
     "text": [
      "train score:  0.7113673397724563\n",
      "test score:  0.7697245257080458\n",
      "MAE: 2.96\n",
      "MSE: 21.47\n",
      "RMSE: 4.63\n"
     ]
    }
   ],
   "source": [
    "#线性回归建模预测\n",
    "model_LR = LinearRegression()\n",
    "model_LR.fit(X_train_d, y_train_d)\n",
    "print(\"train score: \", model_LR.score(X_train_d, y_train_d))\n",
    "print(\"test score: \", model_LR.score(X_test_d, y_test_d))\n",
    "evaluation(model_LR)"
   ]
  },
  {
   "cell_type": "code",
   "execution_count": 26,
   "id": "e522c69e",
   "metadata": {},
   "outputs": [
    {
     "name": "stdout",
     "output_type": "stream",
     "text": [
      "train score:  0.8735196796756327\n",
      "test score:  0.821412052117704\n",
      "MAE: 2.09\n",
      "MSE: 16.65\n",
      "RMSE: 4.08\n"
     ]
    }
   ],
   "source": [
    "#决策树建模预测\n",
    "model_dtr = DecisionTreeRegressor(max_depth = 5, random_state=30)\n",
    "model_dtr.fit(X_train_d, y_train_d)\n",
    "print(\"train score: \", model_dtr.score(X_train_d, y_train_d))\n",
    "print(\"test score: \", model_dtr.score(X_test_d, y_test_d))\n",
    "evaluation(model_dtr)"
   ]
  },
  {
   "cell_type": "code",
   "execution_count": 27,
   "id": "101288ea",
   "metadata": {},
   "outputs": [
    {
     "name": "stdout",
     "output_type": "stream",
     "text": [
      "train score:  0.9832144599869291\n",
      "test score:  0.9137331399356153\n",
      "MAE: 1.30\n",
      "MSE: 8.04\n",
      "RMSE: 2.84\n"
     ]
    }
   ],
   "source": [
    "#随机森林建模预测\n",
    "model_rfr = RandomForestRegressor(random_state=1)\n",
    "model_rfr.fit(X_train_d, y_train_d)\n",
    "print(\"train score: \", model_rfr.score(X_train_d, y_train_d))\n",
    "print(\"test score: \", model_rfr.score(X_test_d, y_test_d))\n",
    "evaluation(model_rfr)"
   ]
  },
  {
   "cell_type": "code",
   "execution_count": 28,
   "id": "812e2a2a",
   "metadata": {},
   "outputs": [],
   "source": [
    "#定义二手车类\n",
    "class UsedCars:\n",
    "    def __init__(self, Name, Year, Kilometers_Driven, Fuel_Type, Transmission, Owner_Type, Mileage, Engine, Power, Seats):\n",
    "        self.Name = Name\n",
    "        self.Year = Year\n",
    "        self.Kilometers_Driven = Kilometers_Driven\n",
    "        self.Fuel_Type = Fuel_Type\n",
    "        self.Transmission = Transmission\n",
    "        self.Owner_Type = Owner_Type\n",
    "        self.Mileage = Mileage\n",
    "        self.Engine = Engine\n",
    "        self.Power = Power\n",
    "        self.Seats = Seats\n",
    "    #定义预测函数\n",
    "    def invoke(self):\n",
    "        #解决二手车品牌输入错误异常\n",
    "        try:\n",
    "            df_name_dict[self.Name]\n",
    "        except KeyError:\n",
    "            return '二手车品牌错误'\n",
    "        itest = []\n",
    "        itest.append(float(df_name_dict[self.Name]))\n",
    "        itest.append(float(self.Year))\n",
    "        itest.append(float(self.Kilometers_Driven))\n",
    "        itest.append(float(self.Fuel_Type))\n",
    "        itest.append(float(self.Transmission))\n",
    "        itest.append(float(self.Owner_Type))\n",
    "        itest.append(float(self.Mileage))\n",
    "        itest.append(float(self.Engine))\n",
    "        itest.append(float(self.Power))\n",
    "        itest.append(float(self.Seats))\n",
    "        res_rfr = model_rfr.predict(np.array(itest).reshape(1, -1))[0]\n",
    "        res_dtr = model_dtr.predict(np.array(itest).reshape(1, -1))[0]\n",
    "        res_LR = model_LR.predict(np.array(itest).reshape(1, -1))[0]\n",
    "        res_knn = model_knn.predict(np.array(itest).reshape(1, -1))[0]\n",
    "        print('随机森林模型评估的该二手车价格为：'+str(round(res_rfr,4))+'万元人民币；\\n'+\\\n",
    "               '决策树模型评估的该二手车价格为：'+str(round(res_dtr,4))+'万元人民币；\\n'+\\\n",
    "               '线性回归模型评估的该二手车价格为：'+str(round(res_LR,4))+'万元人民币；\\n'+\\\n",
    "               'KNN模型评估的该二手车价格为：'+str(round(res_knn,4))+'万元人民币。') "
   ]
  },
  {
   "cell_type": "code",
   "execution_count": 29,
   "id": "bdf4db44",
   "metadata": {},
   "outputs": [
    {
     "name": "stdout",
     "output_type": "stream",
     "text": [
      "随机森林模型评估的该二手车价格为：4.1039万元人民币；\n",
      "决策树模型评估的该二手车价格为：3.4488万元人民币；\n",
      "线性回归模型评估的该二手车价格为：7.4784万元人民币；\n",
      "KNN模型评估的该二手车价格为：4.412万元人民币。\n"
     ]
    },
    {
     "name": "stderr",
     "output_type": "stream",
     "text": [
      "C:\\ProgramData\\Anaconda3\\lib\\site-packages\\sklearn\\base.py:450: UserWarning: X does not have valid feature names, but RandomForestRegressor was fitted with feature names\n",
      "C:\\ProgramData\\Anaconda3\\lib\\site-packages\\sklearn\\base.py:450: UserWarning: X does not have valid feature names, but DecisionTreeRegressor was fitted with feature names\n",
      "C:\\ProgramData\\Anaconda3\\lib\\site-packages\\sklearn\\base.py:450: UserWarning: X does not have valid feature names, but LinearRegression was fitted with feature names\n",
      "C:\\ProgramData\\Anaconda3\\lib\\site-packages\\sklearn\\base.py:450: UserWarning: X does not have valid feature names, but KNeighborsRegressor was fitted with feature names\n"
     ]
    }
   ],
   "source": [
    "car = UsedCars('Toyota',2013,70000,0,0,1,24,1400,100,5)\n",
    "car.invoke()"
   ]
  },
  {
   "cell_type": "code",
   "execution_count": 30,
   "id": "607cc49e",
   "metadata": {},
   "outputs": [
    {
     "data": {
      "text/plain": [
       "'二手车品牌错误'"
      ]
     },
     "execution_count": 30,
     "metadata": {},
     "output_type": "execute_result"
    }
   ],
   "source": [
    "car2 = UsedCars('Toyo',2013,70000,0,0,1,24,1400,100,5)   #输入错误品牌示例\n",
    "car2.invoke()"
   ]
  },
  {
   "cell_type": "code",
   "execution_count": null,
   "id": "4b7371dc",
   "metadata": {},
   "outputs": [],
   "source": []
  }
 ],
 "metadata": {
  "kernelspec": {
   "display_name": "Python 3 (ipykernel)",
   "language": "python",
   "name": "python3"
  },
  "language_info": {
   "codemirror_mode": {
    "name": "ipython",
    "version": 3
   },
   "file_extension": ".py",
   "mimetype": "text/x-python",
   "name": "python",
   "nbconvert_exporter": "python",
   "pygments_lexer": "ipython3",
   "version": "3.9.13"
  }
 },
 "nbformat": 4,
 "nbformat_minor": 5
}
